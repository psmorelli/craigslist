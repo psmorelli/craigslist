{
 "nbformat": 4,
 "nbformat_minor": 2,
 "metadata": {
  "language_info": {
   "name": "python",
   "codemirror_mode": {
    "name": "ipython",
    "version": 3
   },
   "version": "3.7.6-final"
  },
  "orig_nbformat": 2,
  "file_extension": ".py",
  "mimetype": "text/x-python",
  "name": "python",
  "npconvert_exporter": "python",
  "pygments_lexer": "ipython3",
  "version": 3,
  "kernelspec": {
   "name": "python37664bitcoderedconda693c8a623b8d44c8a58a234a9205c665",
   "display_name": "Python 3.7.6 64-bit ('code_red': conda)"
  }
 },
 "cells": [
  {
   "cell_type": "code",
   "execution_count": 1,
   "metadata": {},
   "outputs": [],
   "source": [
    "import pandas as pd\n",
    "import re\n",
    "import datetime\n",
    "import requests\n",
    "import bs4\n",
    "import utils.craigslist as cl"
   ]
  },
  {
   "cell_type": "code",
   "execution_count": 2,
   "metadata": {},
   "outputs": [],
   "source": [
    "pd.set_option(\"display.max_rows\", 500)"
   ]
  },
  {
   "cell_type": "markdown",
   "metadata": {},
   "source": [
    "## Scrap main pages"
   ]
  },
  {
   "cell_type": "code",
   "execution_count": 3,
   "metadata": {},
   "outputs": [],
   "source": [
    "craigslist = cl.scraper(\"https://berlin.craigslist.org/d/housing/search/hhh\")"
   ]
  },
  {
   "cell_type": "code",
   "execution_count": 5,
   "metadata": {},
   "outputs": [
    {
     "data": {
      "text/html": "<div>\n<style scoped>\n    .dataframe tbody tr th:only-of-type {\n        vertical-align: middle;\n    }\n\n    .dataframe tbody tr th {\n        vertical-align: top;\n    }\n\n    .dataframe thead th {\n        text-align: right;\n    }\n</style>\n<table border=\"1\" class=\"dataframe\">\n  <thead>\n    <tr style=\"text-align: right;\">\n      <th></th>\n      <th>id</th>\n      <th>url</th>\n      <th>date</th>\n      <th>description</th>\n      <th>price</th>\n      <th>hood</th>\n      <th>housing</th>\n      <th>img_url</th>\n    </tr>\n  </thead>\n  <tbody>\n    <tr>\n      <th>0</th>\n      <td>7075722295</td>\n      <td>https://berlin.craigslist.org/apa/d/exceptiona...</td>\n      <td>2020-02-15 14:52</td>\n      <td>Exceptional 2 Bedroom Maisonette Rooftop Views</td>\n      <td>€800</td>\n      <td>Mitte</td>\n      <td>2br - 112m</td>\n      <td>https://images.craigslist.org/00404_hvNQ0G2OSe...</td>\n    </tr>\n    <tr>\n      <th>1</th>\n      <td>7075722186</td>\n      <td>https://berlin.craigslist.org/apa/d/exceptiona...</td>\n      <td>2020-02-15 14:52</td>\n      <td>Exceptional 2 Bedroom Maisonette Rooftop Views</td>\n      <td>€800</td>\n      <td>Mitte</td>\n      <td>2br - 112m</td>\n      <td>https://images.craigslist.org/00404_hvNQ0G2OSe...</td>\n    </tr>\n    <tr>\n      <th>2</th>\n      <td>7075722094</td>\n      <td>https://berlin.craigslist.org/apa/d/exceptiona...</td>\n      <td>2020-02-15 14:51</td>\n      <td>Exceptional 2 Bedroom Maisonette Rooftop Views</td>\n      <td>€800</td>\n      <td>Mitte</td>\n      <td>2br - 112m</td>\n      <td>https://images.craigslist.org/00404_hvNQ0G2OSe...</td>\n    </tr>\n    <tr>\n      <th>3</th>\n      <td>7075721993</td>\n      <td>https://berlin.craigslist.org/apa/d/exceptiona...</td>\n      <td>2020-02-15 14:51</td>\n      <td>Exceptional 2 Bedroom Maisonette Rooftop Views</td>\n      <td>€800</td>\n      <td>Mitte</td>\n      <td>2br - 112m</td>\n      <td>https://images.craigslist.org/00404_hvNQ0G2OSe...</td>\n    </tr>\n    <tr>\n      <th>4</th>\n      <td>7075682980</td>\n      <td>https://berlin.craigslist.org/roo/d/sunny-room...</td>\n      <td>2020-02-15 12:15</td>\n      <td>SUNNY rOOM wITH sINGLE bED fOR rENT iN sCHÖNEBERG</td>\n      <td>€499</td>\n      <td>Willmanndamm</td>\n      <td></td>\n      <td>https://images.craigslist.org/00808_7eQd9y0K3m...</td>\n    </tr>\n    <tr>\n      <th>...</th>\n      <td>...</td>\n      <td>...</td>\n      <td>...</td>\n      <td>...</td>\n      <td>...</td>\n      <td>...</td>\n      <td>...</td>\n      <td>...</td>\n    </tr>\n    <tr>\n      <th>706</th>\n      <td>7034471231</td>\n      <td>https://berlin.craigslist.org/vac/d/berln-piso...</td>\n      <td>2020-01-01 16:21</td>\n      <td>BERLÍN PISO VACACIONES 1 HABITACIÓN CENTRO PRE...</td>\n      <td>€50</td>\n      <td>BERLIN</td>\n      <td>1br - 45m</td>\n      <td>https://images.craigslist.org/00l0l_gGSgMQGGEE...</td>\n    </tr>\n    <tr>\n      <th>707</th>\n      <td>7034474478</td>\n      <td>https://berlin.craigslist.org/vac/d/berln-piso...</td>\n      <td>2020-01-01 16:21</td>\n      <td>BERLÍN PISO PARA LAS VACACIONES 2 HABITACIÓNES...</td>\n      <td>€60</td>\n      <td>BERLIN</td>\n      <td>2br - 50m</td>\n      <td>https://images.craigslist.org/00J0J_dHfwjJegEx...</td>\n    </tr>\n    <tr>\n      <th>708</th>\n      <td>7034462358</td>\n      <td>https://berlin.craigslist.org/vac/d/berlin-fer...</td>\n      <td>2020-01-01 16:21</td>\n      <td>BERLIN FERIENWOHNUNG ZENTRAL 2 ZIMMER UNTERKUN...</td>\n      <td>€60</td>\n      <td>BERLIN</td>\n      <td>2br - 50m</td>\n      <td>https://images.craigslist.org/00B0B_9e9QesZEU6...</td>\n    </tr>\n    <tr>\n      <th>709</th>\n      <td>7034477673</td>\n      <td>https://berlin.craigslist.org/vac/d/berln-piso...</td>\n      <td>2020-01-01 16:20</td>\n      <td>BERLÍN PISO PARA LAS VACACIONES 2 HABITACIÓNES...</td>\n      <td>€70</td>\n      <td></td>\n      <td>2br - 64m</td>\n      <td>https://images.craigslist.org/00Z0Z_lBAbHpWNjG...</td>\n    </tr>\n    <tr>\n      <th>710</th>\n      <td>7047775636</td>\n      <td>https://berlin.craigslist.org/off/d/shared-off...</td>\n      <td>2020-01-01 15:27</td>\n      <td>Shared Office</td>\n      <td>€200</td>\n      <td>Berlin Prenzlauer Berg</td>\n      <td>34m</td>\n      <td>https://images.craigslist.org/00W0W_h8Zt8gbM5t...</td>\n    </tr>\n  </tbody>\n</table>\n<p>711 rows × 8 columns</p>\n</div>",
      "text/plain": "             id                                                url  \\\n0    7075722295  https://berlin.craigslist.org/apa/d/exceptiona...   \n1    7075722186  https://berlin.craigslist.org/apa/d/exceptiona...   \n2    7075722094  https://berlin.craigslist.org/apa/d/exceptiona...   \n3    7075721993  https://berlin.craigslist.org/apa/d/exceptiona...   \n4    7075682980  https://berlin.craigslist.org/roo/d/sunny-room...   \n..          ...                                                ...   \n706  7034471231  https://berlin.craigslist.org/vac/d/berln-piso...   \n707  7034474478  https://berlin.craigslist.org/vac/d/berln-piso...   \n708  7034462358  https://berlin.craigslist.org/vac/d/berlin-fer...   \n709  7034477673  https://berlin.craigslist.org/vac/d/berln-piso...   \n710  7047775636  https://berlin.craigslist.org/off/d/shared-off...   \n\n                 date                                        description  \\\n0    2020-02-15 14:52     Exceptional 2 Bedroom Maisonette Rooftop Views   \n1    2020-02-15 14:52     Exceptional 2 Bedroom Maisonette Rooftop Views   \n2    2020-02-15 14:51     Exceptional 2 Bedroom Maisonette Rooftop Views   \n3    2020-02-15 14:51     Exceptional 2 Bedroom Maisonette Rooftop Views   \n4    2020-02-15 12:15  SUNNY rOOM wITH sINGLE bED fOR rENT iN sCHÖNEBERG   \n..                ...                                                ...   \n706  2020-01-01 16:21  BERLÍN PISO VACACIONES 1 HABITACIÓN CENTRO PRE...   \n707  2020-01-01 16:21  BERLÍN PISO PARA LAS VACACIONES 2 HABITACIÓNES...   \n708  2020-01-01 16:21  BERLIN FERIENWOHNUNG ZENTRAL 2 ZIMMER UNTERKUN...   \n709  2020-01-01 16:20  BERLÍN PISO PARA LAS VACACIONES 2 HABITACIÓNES...   \n710  2020-01-01 15:27                                      Shared Office   \n\n    price                     hood     housing  \\\n0    €800                    Mitte  2br - 112m   \n1    €800                    Mitte  2br - 112m   \n2    €800                    Mitte  2br - 112m   \n3    €800                    Mitte  2br - 112m   \n4    €499             Willmanndamm               \n..    ...                      ...         ...   \n706   €50                   BERLIN   1br - 45m   \n707   €60                   BERLIN   2br - 50m   \n708   €60                   BERLIN   2br - 50m   \n709   €70                            2br - 64m   \n710  €200   Berlin Prenzlauer Berg         34m   \n\n                                               img_url  \n0    https://images.craigslist.org/00404_hvNQ0G2OSe...  \n1    https://images.craigslist.org/00404_hvNQ0G2OSe...  \n2    https://images.craigslist.org/00404_hvNQ0G2OSe...  \n3    https://images.craigslist.org/00404_hvNQ0G2OSe...  \n4    https://images.craigslist.org/00808_7eQd9y0K3m...  \n..                                                 ...  \n706  https://images.craigslist.org/00l0l_gGSgMQGGEE...  \n707  https://images.craigslist.org/00J0J_dHfwjJegEx...  \n708  https://images.craigslist.org/00B0B_9e9QesZEU6...  \n709  https://images.craigslist.org/00Z0Z_lBAbHpWNjG...  \n710  https://images.craigslist.org/00W0W_h8Zt8gbM5t...  \n\n[711 rows x 8 columns]"
     },
     "execution_count": 5,
     "metadata": {},
     "output_type": "execute_result"
    }
   ],
   "source": [
    "craigslist"
   ]
  },
  {
   "cell_type": "markdown",
   "metadata": {},
   "source": [
    "### Save dataframe to JSON file oriented to table"
   ]
  },
  {
   "cell_type": "code",
   "execution_count": 6,
   "metadata": {},
   "outputs": [],
   "source": [
    "craigslist.to_json(\"data/craigslist.json\", orient=\"table\")"
   ]
  }
 ]
}